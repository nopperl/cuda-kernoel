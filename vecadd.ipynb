{
 "cells": [
  {
   "cell_type": "code",
   "execution_count": 1,
   "id": "ca189639-442d-49f6-a972-61bcb1ed7b2c",
   "metadata": {},
   "outputs": [],
   "source": [
    "from math import ceil\n",
    "\n",
    "import torch\n",
    "from torch.utils.cpp_extension import load_inline\n",
    "import numpy as np\n",
    "\n",
    "from cuda_utils import load_cuda_inline\n",
    "\n",
    "%load_ext wurlitzer"
   ]
  },
  {
   "cell_type": "markdown",
   "id": "bbb154c6-1cb0-4e80-ac7e-4b17e03cf974",
   "metadata": {},
   "source": [
    "## Vector addition\n",
    "### Python"
   ]
  },
  {
   "cell_type": "code",
   "execution_count": 2,
   "id": "03c062db-fea0-45e2-af3c-f476ea3ab12c",
   "metadata": {},
   "outputs": [],
   "source": [
    "a = torch.rand(5000)\n",
    "b = torch.rand(5000)"
   ]
  },
  {
   "cell_type": "code",
   "execution_count": 3,
   "id": "219e7308-61d9-4852-896c-38f2a33b2164",
   "metadata": {},
   "outputs": [],
   "source": [
    "def vector_addition_math(blockidx, blockdim, threadidx, a, b, out, n):\n",
    "    i = blockidx * blockdim + threadidx\n",
    "    if i < n:\n",
    "        out[i] = a[i] + b[i]\n",
    "\n",
    "def grid_1d_kernel_launch(f, blocks, threads, *args):\n",
    "    for i in range(blocks):\n",
    "        for j in range(threads):\n",
    "            f(i, threads, j, *args)\n",
    "\n",
    "def vector_addition(a, b):\n",
    "    assert a.shape == b.shape\n",
    "    n = a.shape[0]\n",
    "    output = torch.zeros(n)\n",
    "    threads_per_block = 256\n",
    "    blocks = int(ceil(n / threads_per_block))\n",
    "    grid_1d_kernel_launch(vector_addition_math, blocks, threads_per_block, a, b, output, n)\n",
    "    return output"
   ]
  },
  {
   "cell_type": "code",
   "execution_count": 4,
   "id": "9bc6cc9e-d596-4086-a5e0-89aa9b3b5aa8",
   "metadata": {},
   "outputs": [
    {
     "name": "stdout",
     "output_type": "stream",
     "text": [
      "CPU times: user 85.7 ms, sys: 3 ms, total: 88.7 ms\n",
      "Wall time: 87.6 ms\n"
     ]
    }
   ],
   "source": [
    "%time c = vector_addition(a, b)"
   ]
  },
  {
   "cell_type": "code",
   "execution_count": 5,
   "id": "9dbd958c-e6db-4891-a971-11198011eab9",
   "metadata": {},
   "outputs": [
    {
     "data": {
      "text/plain": [
       "True"
      ]
     },
     "execution_count": 5,
     "metadata": {},
     "output_type": "execute_result"
    }
   ],
   "source": [
    "torch.allclose(a + b, c)"
   ]
  },
  {
   "cell_type": "markdown",
   "id": "8640c856-8834-487e-8c50-c5c591bd9ed4",
   "metadata": {},
   "source": [
    "### CUDA"
   ]
  },
  {
   "cell_type": "code",
   "execution_count": 6,
   "id": "716eed71-ab89-4572-a5e5-5f94c6e7fcb8",
   "metadata": {},
   "outputs": [],
   "source": [
    "cuda_src = \"\"\"\n",
    "__global__ void vector_addition_math(float* a, float* b, float* out, int n) {\n",
    "    int i = blockIdx.x * blockDim.x + threadIdx.x;\n",
    "    if (i < n) out[i] = a[i] + b[i];\n",
    "}\n",
    "\n",
    "torch::Tensor vector_addition(torch::Tensor a, torch::Tensor b) {\n",
    "    TORCH_CHECK(a.sizes() == b.sizes());\n",
    "    int n = a.size(0);\n",
    "    auto output = torch::empty(n, a.options());\n",
    "    int threads_per_block = 512;\n",
    "    int blocks = cdiv(n, threads_per_block);\n",
    "    vector_addition_math<<<blocks, threads_per_block>>>(\n",
    "        a.data_ptr<float>(), b.data_ptr<float>(), output.data_ptr<float>(), n\n",
    "    );\n",
    "    return output;\n",
    "}\n",
    "\"\"\""
   ]
  },
  {
   "cell_type": "code",
   "execution_count": 7,
   "id": "8e88a62e-1512-4c28-81f3-83a9d35da0ad",
   "metadata": {},
   "outputs": [],
   "source": [
    "cpp_src = \"torch::Tensor vector_addition(torch::Tensor a, torch::Tensor b);\"\n",
    "cuda_module = load_cuda_inline(cuda_src, cpp_src, [\"vector_addition\"])"
   ]
  },
  {
   "cell_type": "code",
   "execution_count": 8,
   "id": "b986ffe8-c711-4950-bfe3-93aca8e36100",
   "metadata": {},
   "outputs": [],
   "source": [
    "a_cuda = a.contiguous().cuda()\n",
    "b_cuda = b.contiguous().cuda()"
   ]
  },
  {
   "cell_type": "code",
   "execution_count": 9,
   "id": "0a4428af-a724-48cf-a987-9a27c8f7997e",
   "metadata": {},
   "outputs": [
    {
     "data": {
      "text/plain": [
       "True"
      ]
     },
     "execution_count": 9,
     "metadata": {},
     "output_type": "execute_result"
    }
   ],
   "source": [
    "torch.allclose(a_cuda + b_cuda, cuda_module.vector_addition(a_cuda, b_cuda))"
   ]
  },
  {
   "cell_type": "code",
   "execution_count": 10,
   "id": "154a28fa-b3a4-4572-9148-cfddfd48b017",
   "metadata": {},
   "outputs": [
    {
     "name": "stdout",
     "output_type": "stream",
     "text": [
      "30 µs ± 299 ns per loop (mean ± std. dev. of 7 runs, 10,000 loops each)\n"
     ]
    }
   ],
   "source": [
    "%%timeit\n",
    "ouput_cuda = cuda_module.vector_addition(a_cuda, b_cuda).cpu()"
   ]
  },
  {
   "cell_type": "code",
   "execution_count": 11,
   "id": "b1748e5f-db1f-450c-a710-bcdfe41a18cb",
   "metadata": {},
   "outputs": [
    {
     "name": "stdout",
     "output_type": "stream",
     "text": [
      "27.5 µs ± 158 ns per loop (mean ± std. dev. of 7 runs, 10,000 loops each)\n"
     ]
    }
   ],
   "source": [
    "%timeit (a_cuda + b_cuda).cpu()"
   ]
  },
  {
   "cell_type": "code",
   "execution_count": 12,
   "id": "a06ba66c-d8f6-4ffc-ac9f-1476da13f470",
   "metadata": {},
   "outputs": [],
   "source": [
    "a = torch.rand(10000000)\n",
    "b = torch.rand(10000000)\n",
    "a_np = a.numpy()\n",
    "b_np = b.numpy()\n",
    "a_cuda = a.contiguous().cuda()\n",
    "b_cuda = b.contiguous().cuda()"
   ]
  },
  {
   "cell_type": "code",
   "execution_count": 13,
   "id": "3943d5ee-486b-4e5f-99a8-39e829a8a44b",
   "metadata": {},
   "outputs": [
    {
     "name": "stdout",
     "output_type": "stream",
     "text": [
      "19.1 ms ± 1.75 ms per loop (mean ± std. dev. of 7 runs, 100 loops each)\n"
     ]
    }
   ],
   "source": [
    "%timeit a_np + b_np"
   ]
  },
  {
   "cell_type": "code",
   "execution_count": 14,
   "id": "30175619-1aad-4f84-b237-27697f2cda1f",
   "metadata": {},
   "outputs": [
    {
     "name": "stdout",
     "output_type": "stream",
     "text": [
      "18.5 ms ± 74.8 µs per loop (mean ± std. dev. of 7 runs, 100 loops each)\n"
     ]
    }
   ],
   "source": [
    "%timeit cuda_module.vector_addition(a_cuda, b_cuda).cpu()"
   ]
  },
  {
   "cell_type": "code",
   "execution_count": 15,
   "id": "0d1b6f3b-c26f-44f5-9242-12b74e6a426e",
   "metadata": {},
   "outputs": [
    {
     "name": "stdout",
     "output_type": "stream",
     "text": [
      "18.9 ms ± 359 µs per loop (mean ± std. dev. of 7 runs, 100 loops each)\n"
     ]
    }
   ],
   "source": [
    "%timeit (a_cuda + b_cuda).cpu()"
   ]
  },
  {
   "cell_type": "code",
   "execution_count": null,
   "id": "c1fd119e-e69c-49c5-9090-647830c84bd1",
   "metadata": {},
   "outputs": [],
   "source": []
  }
 ],
 "metadata": {
  "kernelspec": {
   "display_name": "Python 3 (ipykernel)",
   "language": "python",
   "name": "python3"
  },
  "language_info": {
   "codemirror_mode": {
    "name": "ipython",
    "version": 3
   },
   "file_extension": ".py",
   "mimetype": "text/x-python",
   "name": "python",
   "nbconvert_exporter": "python",
   "pygments_lexer": "ipython3",
   "version": "3.9.18"
  }
 },
 "nbformat": 4,
 "nbformat_minor": 5
}
