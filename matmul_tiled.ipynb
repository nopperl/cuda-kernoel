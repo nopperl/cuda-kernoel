{
 "cells": [
  {
   "cell_type": "code",
   "execution_count": 1,
   "id": "ca189639-442d-49f6-a972-61bcb1ed7b2c",
   "metadata": {},
   "outputs": [],
   "source": [
    "from collections import namedtuple\n",
    "from math import ceil\n",
    "\n",
    "import torch\n",
    "from torch.utils.cpp_extension import load_inline\n",
    "import numpy as np\n",
    "\n",
    "from cuda_utils import load_cuda_inline\n",
    "\n",
    "%load_ext wurlitzer"
   ]
  },
  {
   "cell_type": "code",
   "execution_count": 2,
   "id": "9868c27d-f8f5-4780-a121-7e5f7aa22ff4",
   "metadata": {},
   "outputs": [],
   "source": [
    "dim3 = namedtuple(\"dim3\", [\"x\", \"y\", \"z\"], defaults=(1, 1))"
   ]
  },
  {
   "cell_type": "markdown",
   "id": "bbb154c6-1cb0-4e80-ac7e-4b17e03cf974",
   "metadata": {},
   "source": [
    "## Tiled matrix multiplication\n",
    "Optimized matrix multiplication by processing multiplication tile-wise to take advantage of shared memory. Tile size is determined dynamically based on the available CUDA device, but the code is precompiled using multiple tile sizes to enable the use of static shared memory."
   ]
  },
  {
   "cell_type": "code",
   "execution_count": 3,
   "id": "40720c40-41cc-43f2-8f8b-68f4cfcb4cff",
   "metadata": {},
   "outputs": [],
   "source": [
    "a = torch.rand(700, 400)\n",
    "b = torch.rand(400, 500)"
   ]
  },
  {
   "cell_type": "code",
   "execution_count": 4,
   "id": "716eed71-ab89-4572-a5e5-5f94c6e7fcb8",
   "metadata": {},
   "outputs": [],
   "source": [
    "with open(\"tiled_matmul.cu\", \"r\") as f:\n",
    "    cuda_src = f.read()"
   ]
  },
  {
   "cell_type": "code",
   "execution_count": 5,
   "id": "8e88a62e-1512-4c28-81f3-83a9d35da0ad",
   "metadata": {},
   "outputs": [],
   "source": [
    "cpp_src = \"torch::Tensor tiled_matrix_multiplication(torch::Tensor a, torch::Tensor b);\"\n",
    "cuda_module = load_cuda_inline(cuda_src, cpp_src, [\"tiled_matrix_multiplication\"])"
   ]
  },
  {
   "cell_type": "code",
   "execution_count": 6,
   "id": "0a4428af-a724-48cf-a987-9a27c8f7997e",
   "metadata": {},
   "outputs": [
    {
     "data": {
      "text/plain": [
       "True"
      ]
     },
     "execution_count": 6,
     "metadata": {},
     "output_type": "execute_result"
    }
   ],
   "source": [
    "a_cuda = a.contiguous().cuda()\n",
    "b_cuda = b.contiguous().cuda()\n",
    "out_torch = (a_cuda @ b_cuda).cpu()\n",
    "out_module = cuda_module.tiled_matrix_multiplication(a_cuda, b_cuda).cpu()\n",
    "torch.allclose(out_torch, out_module)"
   ]
  },
  {
   "cell_type": "code",
   "execution_count": 7,
   "id": "154a28fa-b3a4-4572-9148-cfddfd48b017",
   "metadata": {},
   "outputs": [
    {
     "name": "stdout",
     "output_type": "stream",
     "text": [
      "859 µs ± 28.7 µs per loop (mean ± std. dev. of 7 runs, 1,000 loops each)\n"
     ]
    }
   ],
   "source": [
    "%%timeit\n",
    "ouput_cuda = cuda_module.tiled_matrix_multiplication(a_cuda, b_cuda).cpu()"
   ]
  },
  {
   "cell_type": "code",
   "execution_count": 8,
   "id": "b1748e5f-db1f-450c-a710-bcdfe41a18cb",
   "metadata": {},
   "outputs": [
    {
     "name": "stdout",
     "output_type": "stream",
     "text": [
      "273 µs ± 5.02 µs per loop (mean ± std. dev. of 7 runs, 1,000 loops each)\n"
     ]
    }
   ],
   "source": [
    "%timeit (a_cuda @ b_cuda).cpu()"
   ]
  },
  {
   "cell_type": "code",
   "execution_count": 9,
   "id": "a06ba66c-d8f6-4ffc-ac9f-1476da13f470",
   "metadata": {},
   "outputs": [],
   "source": [
    "a = torch.rand(4096, 256)\n",
    "b = torch.rand(256, 2048)\n",
    "a_np = a.numpy()\n",
    "b_np = b.numpy()\n",
    "a_cuda = a.contiguous().cuda()\n",
    "b_cuda = b.contiguous().cuda()"
   ]
  },
  {
   "cell_type": "code",
   "execution_count": 10,
   "id": "3943d5ee-486b-4e5f-99a8-39e829a8a44b",
   "metadata": {},
   "outputs": [
    {
     "name": "stdout",
     "output_type": "stream",
     "text": [
      "110 ms ± 2.97 ms per loop (mean ± std. dev. of 7 runs, 10 loops each)\n"
     ]
    }
   ],
   "source": [
    "%timeit a_np @ b_np"
   ]
  },
  {
   "cell_type": "code",
   "execution_count": 11,
   "id": "30175619-1aad-4f84-b237-27697f2cda1f",
   "metadata": {},
   "outputs": [
    {
     "name": "stdout",
     "output_type": "stream",
     "text": [
      "23.3 ms ± 2.78 ms per loop (mean ± std. dev. of 7 runs, 100 loops each)\n"
     ]
    }
   ],
   "source": [
    "%timeit cuda_module.tiled_matrix_multiplication(a_cuda, b_cuda).cpu()"
   ]
  },
  {
   "cell_type": "code",
   "execution_count": 12,
   "id": "0d1b6f3b-c26f-44f5-9242-12b74e6a426e",
   "metadata": {},
   "outputs": [
    {
     "name": "stdout",
     "output_type": "stream",
     "text": [
      "17.5 ms ± 159 µs per loop (mean ± std. dev. of 7 runs, 100 loops each)\n"
     ]
    }
   ],
   "source": [
    "%timeit (a_cuda @ b_cuda).cpu()"
   ]
  },
  {
   "cell_type": "markdown",
   "id": "a513d790-1a84-427f-b2f1-ca0f8a6f2f9e",
   "metadata": {},
   "source": [
    "Should be faster on more balanced matrices (less padding due to square tiles)"
   ]
  },
  {
   "cell_type": "code",
   "execution_count": 13,
   "id": "9e356637-ba8b-475d-a9ec-534335defd42",
   "metadata": {},
   "outputs": [],
   "source": [
    "a = torch.rand(4096, 3768)\n",
    "b = torch.rand(3768, 4096)\n",
    "a_np = a.numpy()\n",
    "b_np = b.numpy()\n",
    "a_cuda = a.contiguous().cuda()\n",
    "b_cuda = b.contiguous().cuda()"
   ]
  },
  {
   "cell_type": "code",
   "execution_count": 14,
   "id": "6067a415-d74d-44ef-8ecc-fa4ae88ac22e",
   "metadata": {},
   "outputs": [
    {
     "name": "stdout",
     "output_type": "stream",
     "text": [
      "291 ms ± 18.8 ms per loop (mean ± std. dev. of 7 runs, 1 loop each)\n"
     ]
    }
   ],
   "source": [
    "%timeit a_np @ b_np"
   ]
  },
  {
   "cell_type": "code",
   "execution_count": 15,
   "id": "0c16ebb1-f76c-411d-8c20-f5b2df25ccd1",
   "metadata": {},
   "outputs": [
    {
     "name": "stdout",
     "output_type": "stream",
     "text": [
      "85.8 ms ± 291 µs per loop (mean ± std. dev. of 7 runs, 10 loops each)\n"
     ]
    }
   ],
   "source": [
    "%timeit cuda_module.tiled_matrix_multiplication(a_cuda, b_cuda).cpu()"
   ]
  },
  {
   "cell_type": "code",
   "execution_count": 16,
   "id": "722d1a50-ddf2-4037-932f-adc20b70792f",
   "metadata": {},
   "outputs": [
    {
     "name": "stdout",
     "output_type": "stream",
     "text": [
      "41.4 ms ± 229 µs per loop (mean ± std. dev. of 7 runs, 10 loops each)\n"
     ]
    }
   ],
   "source": [
    "%timeit (a_cuda @ b_cuda).cpu()"
   ]
  },
  {
   "cell_type": "code",
   "execution_count": null,
   "id": "ccfff71f-e7ca-4f76-975b-72c9755bcadb",
   "metadata": {},
   "outputs": [],
   "source": []
  }
 ],
 "metadata": {
  "kernelspec": {
   "display_name": "Python 3 (ipykernel)",
   "language": "python",
   "name": "python3"
  },
  "language_info": {
   "codemirror_mode": {
    "name": "ipython",
    "version": 3
   },
   "file_extension": ".py",
   "mimetype": "text/x-python",
   "name": "python",
   "nbconvert_exporter": "python",
   "pygments_lexer": "ipython3",
   "version": "3.9.18"
  }
 },
 "nbformat": 4,
 "nbformat_minor": 5
}
