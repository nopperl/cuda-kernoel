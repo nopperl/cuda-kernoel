{
 "cells": [
  {
   "cell_type": "code",
   "execution_count": 1,
   "id": "ca189639-442d-49f6-a972-61bcb1ed7b2c",
   "metadata": {},
   "outputs": [],
   "source": [
    "from collections import namedtuple\n",
    "from math import ceil\n",
    "\n",
    "import torch\n",
    "from torch.utils.cpp_extension import load_inline\n",
    "import numpy as np\n",
    "\n",
    "from cuda_utils import load_cuda_inline\n",
    "\n",
    "%load_ext wurlitzer"
   ]
  },
  {
   "cell_type": "code",
   "execution_count": 2,
   "id": "9868c27d-f8f5-4780-a121-7e5f7aa22ff4",
   "metadata": {},
   "outputs": [],
   "source": [
    "dim3 = namedtuple(\"dim3\", [\"x\", \"y\", \"z\"], defaults=(1, 1))"
   ]
  },
  {
   "cell_type": "markdown",
   "id": "bbb154c6-1cb0-4e80-ac7e-4b17e03cf974",
   "metadata": {},
   "source": [
    "## Matrix multiplication\n",
    "### Python"
   ]
  },
  {
   "cell_type": "code",
   "execution_count": 3,
   "id": "5d0a5e0a-e062-4bfb-983c-d37d6b331cfe",
   "metadata": {},
   "outputs": [
    {
     "data": {
      "text/plain": [
       "tensor([[1., 1., 1.],\n",
       "        [1., 1., 1.]])"
      ]
     },
     "execution_count": 3,
     "metadata": {},
     "output_type": "execute_result"
    }
   ],
   "source": [
    "torch.ones((2,3))"
   ]
  },
  {
   "cell_type": "code",
   "execution_count": 4,
   "id": "03c062db-fea0-45e2-af3c-f476ea3ab12c",
   "metadata": {},
   "outputs": [],
   "source": [
    "a = torch.rand(20, 50)\n",
    "b = torch.rand(50, 70)"
   ]
  },
  {
   "cell_type": "code",
   "execution_count": 5,
   "id": "219e7308-61d9-4852-896c-38f2a33b2164",
   "metadata": {},
   "outputs": [],
   "source": [
    "def matrix_multiplication_math(blockidx, blockdim, threadidx, a, b, out, h, w, k):\n",
    "    c = blockidx.x * blockdim.x + threadidx.x\n",
    "    r = blockidx.y * blockdim.y + threadidx.y\n",
    "    if c >= w or r >= h: return\n",
    "    o = 0\n",
    "    for i in range(k):\n",
    "        o += a[r * k + i] * b[c + w * i]\n",
    "    out[r, c] = o\n",
    "\n",
    "def grid_2d_kernel_launch(f, blocks, threads, *args):\n",
    "    for i0 in range(blocks.y):\n",
    "        for i1 in range(blocks.x):\n",
    "            for j0 in range(threads.y):\n",
    "                for j1 in range(threads.x):\n",
    "                    f(dim3(i1, i0), threads, dim3(j1, j0), *args)\n",
    "\n",
    "def matrix_multiplication(a, b):\n",
    "    h, k = a.shape\n",
    "    k2, w = b.shape\n",
    "    assert k == k2\n",
    "    output = torch.empty(h, w)\n",
    "    threads_per_block = dim3(16, 16)\n",
    "    blocks = dim3(int(ceil(w / threads_per_block.x)), int(ceil(h / threads_per_block.y)))\n",
    "    grid_2d_kernel_launch(matrix_multiplication_math, blocks, threads_per_block, a.flatten(), b.flatten(), output, h, w, k)\n",
    "    return output"
   ]
  },
  {
   "cell_type": "code",
   "execution_count": 6,
   "id": "ea303146-9f03-4b69-b550-93eed9fad629",
   "metadata": {},
   "outputs": [
    {
     "name": "stdout",
     "output_type": "stream",
     "text": [
      "CPU times: user 1.1 s, sys: 0 ns, total: 1.1 s\n",
      "Wall time: 1.1 s\n"
     ]
    }
   ],
   "source": [
    "%time out = matrix_multiplication(a, b)"
   ]
  },
  {
   "cell_type": "code",
   "execution_count": 7,
   "id": "1a000463-b46f-42a6-bab0-0ddc04e11ed6",
   "metadata": {},
   "outputs": [
    {
     "data": {
      "text/plain": [
       "True"
      ]
     },
     "execution_count": 7,
     "metadata": {},
     "output_type": "execute_result"
    }
   ],
   "source": [
    "torch.allclose(out, a @ b)"
   ]
  },
  {
   "cell_type": "markdown",
   "id": "8640c856-8834-487e-8c50-c5c591bd9ed4",
   "metadata": {},
   "source": [
    "### CUDA"
   ]
  },
  {
   "cell_type": "code",
   "execution_count": 8,
   "id": "716eed71-ab89-4572-a5e5-5f94c6e7fcb8",
   "metadata": {},
   "outputs": [],
   "source": [
    "cuda_src = \"\"\"\n",
    "__global__ void matrix_multiplication_math(float *a, float *b, float *out, int h, int w, int k) {\n",
    "    int c = blockIdx.x * blockDim.x + threadIdx.x;\n",
    "    int r = blockIdx.y * blockDim.y + threadIdx.y;\n",
    "    if (c >= w || r >= h) return;\n",
    "    float o = 0;\n",
    "    for (int i = 0; i < k; i++) {\n",
    "        o += a[r * k + i] * b[c + w * i];\n",
    "    }\n",
    "    out[r * w + c] = o;\n",
    "}\n",
    "\n",
    "torch::Tensor matrix_multiplication(torch::Tensor a, torch::Tensor b) {\n",
    "    int h = a.size(0);\n",
    "    int k = a.size(1);\n",
    "    int w = b.size(1);\n",
    "    TORCH_CHECK(k == b.size(0));\n",
    "    auto output = torch::empty({h, w}, a.options());\n",
    "    dim3 threads_per_block(16, 16);\n",
    "    dim3 blocks(ceil(w / (float)threads_per_block.x), ceil(h / (float)threads_per_block.y));\n",
    "    matrix_multiplication_math<<<blocks, threads_per_block>>>(\n",
    "        a.data_ptr<float>(), b.data_ptr<float>(), output.data_ptr<float>(), h, w, k\n",
    "    );\n",
    "    return output;\n",
    "}\n",
    "\"\"\""
   ]
  },
  {
   "cell_type": "code",
   "execution_count": 9,
   "id": "8e88a62e-1512-4c28-81f3-83a9d35da0ad",
   "metadata": {},
   "outputs": [],
   "source": [
    "cpp_src = \"torch::Tensor matrix_multiplication(torch::Tensor a, torch::Tensor b);\"\n",
    "cuda_module = load_cuda_inline(cuda_src, cpp_src, [\"matrix_multiplication\"])"
   ]
  },
  {
   "cell_type": "code",
   "execution_count": 10,
   "id": "b986ffe8-c711-4950-bfe3-93aca8e36100",
   "metadata": {},
   "outputs": [],
   "source": [
    "a_cuda = a.contiguous().cuda()\n",
    "b_cuda = b.contiguous().cuda()"
   ]
  },
  {
   "cell_type": "code",
   "execution_count": 11,
   "id": "0a4428af-a724-48cf-a987-9a27c8f7997e",
   "metadata": {},
   "outputs": [
    {
     "data": {
      "text/plain": [
       "True"
      ]
     },
     "execution_count": 11,
     "metadata": {},
     "output_type": "execute_result"
    }
   ],
   "source": [
    "torch.allclose(a_cuda @ b_cuda, cuda_module.matrix_multiplication(a_cuda, b_cuda))"
   ]
  },
  {
   "cell_type": "code",
   "execution_count": 12,
   "id": "154a28fa-b3a4-4572-9148-cfddfd48b017",
   "metadata": {},
   "outputs": [
    {
     "name": "stdout",
     "output_type": "stream",
     "text": [
      "29.1 µs ± 130 ns per loop (mean ± std. dev. of 7 runs, 10,000 loops each)\n"
     ]
    }
   ],
   "source": [
    "%%timeit\n",
    "ouput_cuda = cuda_module.matrix_multiplication(a_cuda, b_cuda).cpu()"
   ]
  },
  {
   "cell_type": "code",
   "execution_count": 13,
   "id": "b1748e5f-db1f-450c-a710-bcdfe41a18cb",
   "metadata": {},
   "outputs": [
    {
     "name": "stdout",
     "output_type": "stream",
     "text": [
      "33.9 µs ± 200 ns per loop (mean ± std. dev. of 7 runs, 10,000 loops each)\n"
     ]
    }
   ],
   "source": [
    "%timeit (a_cuda @ b_cuda).cpu()"
   ]
  },
  {
   "cell_type": "code",
   "execution_count": 14,
   "id": "a06ba66c-d8f6-4ffc-ac9f-1476da13f470",
   "metadata": {},
   "outputs": [],
   "source": [
    "a = torch.rand(4096, 256)\n",
    "b = torch.rand(256, 2048)\n",
    "a_np = a.numpy()\n",
    "b_np = b.numpy()\n",
    "a_cuda = a.contiguous().cuda()\n",
    "b_cuda = b.contiguous().cuda()"
   ]
  },
  {
   "cell_type": "code",
   "execution_count": 15,
   "id": "3943d5ee-486b-4e5f-99a8-39e829a8a44b",
   "metadata": {},
   "outputs": [
    {
     "name": "stdout",
     "output_type": "stream",
     "text": [
      "109 ms ± 3.58 ms per loop (mean ± std. dev. of 7 runs, 10 loops each)\n"
     ]
    }
   ],
   "source": [
    "%timeit a_np @ b_np"
   ]
  },
  {
   "cell_type": "code",
   "execution_count": 16,
   "id": "30175619-1aad-4f84-b237-27697f2cda1f",
   "metadata": {},
   "outputs": [
    {
     "name": "stdout",
     "output_type": "stream",
     "text": [
      "21.2 ms ± 1.37 ms per loop (mean ± std. dev. of 7 runs, 10 loops each)\n"
     ]
    }
   ],
   "source": [
    "%timeit cuda_module.matrix_multiplication(a_cuda, b_cuda).cpu()"
   ]
  },
  {
   "cell_type": "code",
   "execution_count": 17,
   "id": "0d1b6f3b-c26f-44f5-9242-12b74e6a426e",
   "metadata": {},
   "outputs": [
    {
     "name": "stdout",
     "output_type": "stream",
     "text": [
      "17.7 ms ± 13.4 µs per loop (mean ± std. dev. of 7 runs, 100 loops each)\n"
     ]
    }
   ],
   "source": [
    "%timeit (a_cuda @ b_cuda).cpu()"
   ]
  },
  {
   "cell_type": "code",
   "execution_count": null,
   "id": "ad645aaf-7d1a-4692-b940-1f76e4f60e29",
   "metadata": {},
   "outputs": [],
   "source": []
  }
 ],
 "metadata": {
  "kernelspec": {
   "display_name": "Python 3 (ipykernel)",
   "language": "python",
   "name": "python3"
  },
  "language_info": {
   "codemirror_mode": {
    "name": "ipython",
    "version": 3
   },
   "file_extension": ".py",
   "mimetype": "text/x-python",
   "name": "python",
   "nbconvert_exporter": "python",
   "pygments_lexer": "ipython3",
   "version": "3.9.18"
  }
 },
 "nbformat": 4,
 "nbformat_minor": 5
}
